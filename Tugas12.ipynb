{
  "nbformat": 4,
  "nbformat_minor": 0,
  "metadata": {
    "colab": {
      "name": "Tugas12.ipynb",
      "provenance": [],
      "authorship_tag": "ABX9TyPYc/ej3aXO/Sna4vVHBgAu",
      "include_colab_link": true
    },
    "kernelspec": {
      "name": "python3",
      "display_name": "Python 3"
    }
  },
  "cells": [
    {
      "cell_type": "markdown",
      "metadata": {
        "id": "view-in-github",
        "colab_type": "text"
      },
      "source": [
        "<a href=\"https://colab.research.google.com/github/astaraniutami/Astarani-utami/blob/main/Tugas12.ipynb\" target=\"_parent\"><img src=\"https://colab.research.google.com/assets/colab-badge.svg\" alt=\"Open In Colab\"/></a>"
      ]
    },
    {
      "cell_type": "code",
      "metadata": {
        "id": "YmwL96fqoXw8"
      },
      "source": [
        "# NAME  : NI MADE ASTARANI UTAMI\r\n",
        "# NIM   : 1101208340\r\n",
        "# CLASS : TTX 44-01"
      ],
      "execution_count": 1,
      "outputs": []
    },
    {
      "cell_type": "code",
      "metadata": {
        "id": "xRrinfraojWj"
      },
      "source": [
        "\r\n",
        "import numpy as np"
      ],
      "execution_count": 2,
      "outputs": []
    },
    {
      "cell_type": "code",
      "metadata": {
        "id": "i_6DtRORol3X"
      },
      "source": [
        "NtL = lambda x: 10*np.log10(x)"
      ],
      "execution_count": 3,
      "outputs": []
    },
    {
      "cell_type": "code",
      "metadata": {
        "colab": {
          "base_uri": "https://localhost:8080/"
        },
        "id": "yQ1Vsu6kon4P",
        "outputId": "08e19b16-07c9-4b39-b58b-04630929acb2"
      },
      "source": [
        "z=NtL(100)\r\n",
        "print(z)"
      ],
      "execution_count": 4,
      "outputs": [
        {
          "output_type": "stream",
          "text": [
            "20.0\n"
          ],
          "name": "stdout"
        }
      ]
    },
    {
      "cell_type": "code",
      "metadata": {
        "id": "r3AK_sj7othN"
      },
      "source": [
        "LtN = lambda x: 10**(x/10)"
      ],
      "execution_count": 5,
      "outputs": []
    },
    {
      "cell_type": "code",
      "metadata": {
        "colab": {
          "base_uri": "https://localhost:8080/"
        },
        "id": "mWyf3Dl3owGE",
        "outputId": "7e1e1f25-2812-4584-db75-ce61dd61266c"
      },
      "source": [
        "y=LtN(100)\r\n",
        "print(y)"
      ],
      "execution_count": 6,
      "outputs": [
        {
          "output_type": "stream",
          "text": [
            "10000000000.0\n"
          ],
          "name": "stdout"
        }
      ]
    },
    {
      "cell_type": "code",
      "metadata": {
        "colab": {
          "base_uri": "https://localhost:8080/"
        },
        "id": "cr2YAxNKoy37",
        "outputId": "d6fc49db-5832-4bbf-e987-f7719dfdc476"
      },
      "source": [
        "# Daerah Suburban\r\n",
        "Lp = 69.55  + (26.16*np.log10(950)) - (13.83*np.log10(95)) - ((((1.1*np.log10(950))-0.7)*25) - ((1.56*np.log10(950))-0.8)) + ((44.9-(6.55*np.log10(25)))*np.log10(10)) + (-10.0852)\r\n",
        "print(Lp)"
      ],
      "execution_count": 8,
      "outputs": [
        {
          "output_type": "stream",
          "text": [
            "85.21147467521693\n"
          ],
          "name": "stdout"
        }
      ]
    },
    {
      "cell_type": "code",
      "metadata": {
        "colab": {
          "base_uri": "https://localhost:8080/"
        },
        "id": "_Arov3g9o3JX",
        "outputId": "99f7fb40-af0d-44d6-87c3-188066dc160f"
      },
      "source": [
        "# Daerah Urban\r\n",
        "Lp = 69.55  + (26.16*np.log10(950)) - (13.83*np.log10(95)) - ((((1.1*np.log10(950))-0.7)*25) - ((1.56*np.log10(950))-0.8)) + ((44.9-(6.55*np.log10(25)))*np.log10(10)) + (0)\r\n",
        "print(Lp)"
      ],
      "execution_count": 9,
      "outputs": [
        {
          "output_type": "stream",
          "text": [
            "95.29667467521693\n"
          ],
          "name": "stdout"
        }
      ]
    },
    {
      "cell_type": "code",
      "metadata": {
        "colab": {
          "base_uri": "https://localhost:8080/"
        },
        "id": "lmkJxwGHo6gc",
        "outputId": "2ffc3e94-5cb9-4214-c0d8-e87c296fa2b0"
      },
      "source": [
        "# Daerah Open\r\n",
        "Lp = 69.55  + (26.16*np.log10(950)) - (13.83*np.log10(95)) - ((((1.1*np.log10(950))-0.7)*25) - ((1.56*np.log10(950))-0.8)) + ((44.9-(6.55*np.log10(25)))*np.log10(10)) + (-28.7418)\r\n",
        "print(Lp)"
      ],
      "execution_count": 10,
      "outputs": [
        {
          "output_type": "stream",
          "text": [
            "66.55487467521694\n"
          ],
          "name": "stdout"
        }
      ]
    },
    {
      "cell_type": "code",
      "metadata": {
        "id": "oXWLboZWo-HH"
      },
      "source": [
        "def ploss (d, f, cm, ht, hr):\r\n",
        "  pldb= 69.55 + (26.16*np.log10(f)) - (13.83*np.log10(ht)) - ((((1.1*np.log10(f)) - 0.7) * hr) - ((1.56*np.log10(f)) - 0.8)) + ((44.9 - (6.55*np.log10(ht)))*np.log10(d)) + cm\r\n",
        "  plnum=LtN(-pldb)\r\n",
        "  return pldb,plnum"
      ],
      "execution_count": 11,
      "outputs": []
    },
    {
      "cell_type": "code",
      "metadata": {
        "colab": {
          "base_uri": "https://localhost:8080/"
        },
        "id": "QCIiRDKjpBAy",
        "outputId": "b4b84139-f2e9-4cff-90da-14ce88f5808e"
      },
      "source": [
        "# Daerah Suburban\r\n",
        "pathlossdb, pathlossnum = ploss(10, 950, -10.0852, 95, 25)\r\n",
        "print(\"pathloss dalam db =\",pathlossdb,\"dB\")\r\n",
        "print(\"pathloss dalam numerik =\",pathlossnum,\"kali\")"
      ],
      "execution_count": 12,
      "outputs": [
        {
          "output_type": "stream",
          "text": [
            "pathloss dalam db = 81.41389211737683 dB\n",
            "pathloss dalam numerik = 7.221223524226068e-09 kali\n"
          ],
          "name": "stdout"
        }
      ]
    },
    {
      "cell_type": "code",
      "metadata": {
        "colab": {
          "base_uri": "https://localhost:8080/"
        },
        "id": "hlq7cMMrpFL9",
        "outputId": "707c4e34-dcf7-4c0f-fc33-ea18718b4e4b"
      },
      "source": [
        "# Daerah Urban\r\n",
        "pathlossdb, pathlossnum = ploss(10, 950, 0, 95, 25)\r\n",
        "print(\"pathloss dalam db =\",pathlossdb,\"dB\")\r\n",
        "print(\"pathloss dalam numerik =\",pathlossnum,\"kali\")"
      ],
      "execution_count": 13,
      "outputs": [
        {
          "output_type": "stream",
          "text": [
            "pathloss dalam db = 91.49909211737683 dB\n",
            "pathloss dalam numerik = 7.080937942917115e-10 kali\n"
          ],
          "name": "stdout"
        }
      ]
    },
    {
      "cell_type": "code",
      "metadata": {
        "colab": {
          "base_uri": "https://localhost:8080/"
        },
        "id": "JLviRLXrpIKo",
        "outputId": "dfe88431-4f21-4a82-9bf4-e4bc2cb55dc3"
      },
      "source": [
        "# Daerah Open\r\n",
        "pathlossdb, pathlossnum = ploss(10, 950, -28.7418, 95, 25)\r\n",
        "print(\"pathloss dalam db =\",pathlossdb,\"dB\")\r\n",
        "print(\"pathloss dalam numerik =\",pathlossnum,\"kali\")"
      ],
      "execution_count": 14,
      "outputs": [
        {
          "output_type": "stream",
          "text": [
            "pathloss dalam db = 62.757292117376835 dB\n",
            "pathloss dalam numerik = 5.299937989227408e-07 kali\n"
          ],
          "name": "stdout"
        }
      ]
    },
    {
      "cell_type": "code",
      "metadata": {
        "id": "iV5eyqYppLrv"
      },
      "source": [
        ""
      ],
      "execution_count": null,
      "outputs": []
    }
  ]
}