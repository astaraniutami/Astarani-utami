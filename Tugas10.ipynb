{
  "nbformat": 4,
  "nbformat_minor": 0,
  "metadata": {
    "colab": {
      "name": "Tugas10.ipynb",
      "provenance": [],
      "mount_file_id": "1Xeskwvu0V0ucFXGPLyLEBCHcNs3yz37S",
      "authorship_tag": "ABX9TyN7Lp4GcacaZ9XIdstZEGN6",
      "include_colab_link": true
    },
    "kernelspec": {
      "name": "python3",
      "display_name": "Python 3"
    }
  },
  "cells": [
    {
      "cell_type": "markdown",
      "metadata": {
        "id": "view-in-github",
        "colab_type": "text"
      },
      "source": [
        "<a href=\"https://colab.research.google.com/github/astaraniutami/Astarani-utami/blob/main/Tugas10.ipynb\" target=\"_parent\"><img src=\"https://colab.research.google.com/assets/colab-badge.svg\" alt=\"Open In Colab\"/></a>"
      ]
    },
    {
      "cell_type": "code",
      "metadata": {
        "colab": {
          "base_uri": "https://localhost:8080/"
        },
        "id": "rZzUZJvuVLrV",
        "outputId": "38ded6d0-da3c-4a1d-f9b1-dc25aef4462d"
      },
      "source": [
        "cd /content/drive/MyDrive/Colab Notebooks "
      ],
      "execution_count": 10,
      "outputs": [
        {
          "output_type": "stream",
          "text": [
            "/content/drive/MyDrive/Colab Notebooks\n"
          ],
          "name": "stdout"
        }
      ]
    },
    {
      "cell_type": "code",
      "metadata": {
        "colab": {
          "base_uri": "https://localhost:8080/"
        },
        "id": "Wq4KwQtdbkmu",
        "outputId": "56233859-e441-4433-ceb4-fe4977f4f1e1"
      },
      "source": [
        "ls"
      ],
      "execution_count": 11,
      "outputs": [
        {
          "output_type": "stream",
          "text": [
            "'Copy of CNN2019 - 19 - Long Short Term Memory.ipynb'   Untitled0.ipynb\n",
            "\u001b[0m\u001b[01;34m'Tugas Python Ni Made'\u001b[0m/\n"
          ],
          "name": "stdout"
        }
      ]
    },
    {
      "cell_type": "code",
      "metadata": {
        "id": "VP1eYV4Kb6kR"
      },
      "source": [
        "\n",
        "# import the necessary packages\n",
        "from keras.models import Sequential\n",
        "from keras.layers.convolutional import Conv2D\n",
        "from keras.layers.convolutional import MaxPooling2D\n",
        "from keras.layers.core import Activation\n",
        "from keras.layers.core import Flatten\n",
        "from keras.layers.core import Dense\n",
        "from keras.optimizers import Adam\n",
        "from sklearn.preprocessing import LabelBinarizer\n",
        "from sklearn.model_selection import train_test_split\n",
        "from sklearn.metrics import classification_report\n",
        "from PIL import Image\n",
        "from imutils import paths\n",
        "import numpy as np\n",
        "import os"
      ],
      "execution_count": 12,
      "outputs": []
    },
    {
      "cell_type": "code",
      "metadata": {
        "colab": {
          "base_uri": "https://localhost:8080/"
        },
        "id": "z6-CoBXob9BL",
        "outputId": "6d815366-88d5-4e71-9ec4-7a6a426a3dbc"
      },
      "source": [
        "# grab all image paths in the input dataset directory, then initialize\n",
        "# our list of images and corresponding class labels\n",
        "print(\"[INFO] loading images...\")\n",
        "imagePaths = paths.list_images(\"Tugas Python Ni Made\")\n",
        "data = []\n",
        "labels = []"
      ],
      "execution_count": 13,
      "outputs": [
        {
          "output_type": "stream",
          "text": [
            "[INFO] loading images...\n"
          ],
          "name": "stdout"
        }
      ]
    },
    {
      "cell_type": "code",
      "metadata": {
        "id": "2D4P4_7lcF57"
      },
      "source": [
        "# loop over our input images\n",
        "for imagePath in imagePaths:\n",
        "\t# load the input image from disk, resize it to 32x32 pixels, scale\n",
        "\t# the pixel intensities to the range [0, 1], and then update our\n",
        "\t# images list\n",
        "  image = Image.open(imagePath)\n",
        "  image = np.array(image.resize((32, 32))) / 255.0\n",
        "  data.append(image)\n",
        "\n",
        "\t# extract the class label from the file path and update the\n",
        "\t# labels list\n",
        "  label = imagePath.split(os.path.sep)[-2]\n",
        "  labels.append(label)"
      ],
      "execution_count": 15,
      "outputs": []
    },
    {
      "cell_type": "code",
      "metadata": {
        "colab": {
          "base_uri": "https://localhost:8080/"
        },
        "id": "xcWdc1nBeJ61",
        "outputId": "d5a7e1e3-a933-4306-c74d-03d3410f9a49"
      },
      "source": [
        "\n",
        "print(labels)"
      ],
      "execution_count": 16,
      "outputs": [
        {
          "output_type": "stream",
          "text": [
            "['highway', 'highway', 'highway', 'highway', 'highway', 'highway', 'highway', 'highway', 'highway', 'highway', 'highway', 'highway', 'highway', 'highway', 'highway', 'highway', 'highway', 'highway', 'highway', 'highway', 'highway', 'highway', 'highway', 'highway', 'highway', 'highway', 'highway', 'highway', 'highway', 'highway', 'highway', 'highway', 'highway', 'highway', 'highway', 'highway', 'highway', 'highway', 'highway', 'highway', 'highway', 'highway', 'highway', 'highway', 'highway', 'highway', 'highway', 'highway', 'highway', 'highway', 'highway', 'highway', 'highway', 'highway', 'highway', 'highway', 'highway', 'highway', 'highway', 'highway', 'highway', 'highway', 'highway', 'highway', 'highway', 'highway', 'highway', 'highway', 'highway', 'highway', 'highway', 'highway', 'highway', 'highway', 'highway', 'highway', 'highway', 'highway', 'highway', 'highway', 'highway', 'highway', 'highway', 'highway', 'highway', 'highway', 'highway', 'highway', 'highway', 'highway', 'highway', 'highway', 'highway', 'highway', 'highway', 'highway', 'highway', 'highway', 'highway', 'highway', 'highway', 'highway', 'highway', 'highway', 'highway', 'highway', 'highway', 'highway', 'highway', 'highway', 'highway', 'highway', 'highway', 'highway', 'highway', 'highway', 'highway', 'highway', 'highway', 'highway', 'highway', 'highway', 'highway', 'highway', 'highway', 'highway', 'highway', 'highway', 'highway', 'highway', 'highway', 'highway', 'highway', 'highway', 'highway', 'highway', 'highway', 'highway', 'highway', 'highway', 'highway', 'highway', 'highway', 'highway', 'highway', 'highway', 'highway', 'highway', 'highway', 'highway', 'highway', 'highway', 'highway', 'highway', 'highway', 'highway', 'highway', 'highway', 'highway', 'highway', 'highway', 'highway', 'highway', 'highway', 'highway', 'highway', 'highway', 'highway', 'highway', 'highway', 'highway', 'highway', 'highway', 'highway', 'highway', 'highway', 'highway', 'highway', 'highway', 'highway', 'highway', 'highway', 'highway', 'highway', 'highway', 'highway', 'highway', 'highway', 'highway', 'highway', 'highway', 'highway', 'highway', 'highway', 'highway', 'highway', 'highway', 'highway', 'highway', 'highway', 'highway', 'highway', 'highway', 'highway', 'highway', 'highway', 'highway', 'highway', 'highway', 'highway', 'highway', 'highway', 'highway', 'highway', 'highway', 'highway', 'highway', 'highway', 'highway', 'highway', 'highway', 'highway', 'highway', 'highway', 'highway', 'highway', 'highway', 'highway', 'highway', 'highway', 'highway', 'highway', 'highway', 'highway', 'highway', 'highway', 'highway', 'highway', 'highway', 'highway', 'highway', 'highway', 'highway', 'highway', 'highway', 'highway', 'highway', 'highway', 'highway', 'highway', 'highway', 'highway', 'highway', 'highway', 'highway', 'highway', 'highway', 'highway', 'highway', 'highway', 'forest', 'forest', 'forest', 'forest', 'forest', 'forest', 'forest', 'forest', 'forest', 'forest', 'forest', 'forest', 'forest', 'forest', 'forest', 'forest', 'forest', 'forest', 'forest', 'forest', 'forest', 'forest', 'forest', 'forest', 'forest', 'forest', 'forest', 'forest', 'forest', 'forest', 'forest', 'forest', 'forest', 'forest', 'forest', 'forest', 'forest', 'forest', 'forest', 'forest', 'forest', 'forest', 'forest', 'forest', 'forest', 'forest', 'forest', 'forest', 'forest', 'forest', 'forest', 'forest', 'forest', 'forest', 'forest', 'forest', 'forest', 'forest', 'forest', 'forest', 'forest', 'forest', 'forest', 'forest', 'forest', 'forest', 'forest', 'forest', 'forest', 'forest', 'forest', 'forest', 'forest', 'forest', 'forest', 'forest', 'forest', 'forest', 'forest', 'forest', 'forest', 'forest', 'forest', 'forest', 'forest', 'forest', 'forest', 'forest', 'forest', 'forest', 'forest', 'forest', 'forest', 'forest', 'forest', 'forest', 'forest', 'forest', 'forest', 'forest', 'forest', 'forest', 'forest', 'forest', 'forest', 'forest', 'forest', 'forest', 'forest', 'forest', 'forest', 'forest', 'forest', 'forest', 'forest', 'forest', 'forest', 'forest', 'forest', 'forest', 'forest', 'forest', 'forest', 'forest', 'forest', 'forest', 'forest', 'forest', 'forest', 'forest', 'forest', 'forest', 'forest', 'forest', 'forest', 'forest', 'forest', 'forest', 'forest', 'forest', 'forest', 'forest', 'forest', 'forest', 'forest', 'forest', 'forest', 'forest', 'forest', 'forest', 'forest', 'forest', 'forest', 'forest', 'forest', 'forest', 'forest', 'forest', 'forest', 'forest', 'forest', 'forest', 'forest', 'forest', 'forest', 'forest', 'forest', 'forest', 'forest', 'forest', 'forest', 'forest', 'forest', 'forest', 'forest', 'forest', 'forest', 'forest', 'forest', 'forest', 'forest', 'forest', 'forest', 'forest', 'forest', 'forest', 'forest', 'forest', 'forest', 'forest', 'forest', 'forest', 'forest', 'forest', 'forest', 'forest', 'forest', 'forest', 'forest', 'forest', 'forest', 'forest', 'forest', 'forest', 'forest', 'forest', 'forest', 'forest', 'forest', 'forest', 'forest', 'forest', 'forest', 'forest', 'forest', 'forest', 'forest', 'forest', 'forest', 'forest', 'forest', 'forest', 'forest', 'forest', 'forest', 'forest', 'forest', 'forest', 'forest', 'forest', 'forest', 'forest', 'forest', 'forest', 'forest', 'forest', 'forest', 'forest', 'forest', 'forest', 'forest', 'forest', 'forest', 'forest', 'forest', 'forest', 'forest', 'forest', 'forest', 'forest', 'forest', 'forest', 'forest', 'forest', 'forest', 'forest', 'forest', 'forest', 'forest', 'forest', 'forest', 'forest', 'forest', 'forest', 'forest', 'forest', 'forest', 'forest', 'forest', 'forest', 'forest', 'forest', 'forest', 'forest', 'forest', 'forest', 'forest', 'forest', 'forest', 'forest', 'forest', 'forest', 'forest', 'forest', 'forest', 'forest', 'forest', 'forest', 'forest', 'forest', 'forest', 'forest', 'forest', 'forest', 'forest', 'forest', 'forest', 'forest', 'forest', 'forest', 'forest', 'forest', 'forest', 'forest', 'forest', 'forest', 'forest', 'forest', 'forest', 'forest', 'forest', 'forest', 'forest', 'forest', 'forest', 'forest', 'forest', 'forest', 'forest', 'forest', 'forest', 'forest', 'forest', 'forest', 'forest', 'forest', 'forest', 'forest', 'coast', 'coast', 'coast', 'coast', 'coast', 'coast', 'coast', 'coast', 'coast', 'coast', 'coast', 'coast', 'coast', 'coast', 'coast', 'coast', 'coast', 'coast', 'coast', 'coast', 'coast', 'coast', 'coast', 'coast', 'coast', 'coast', 'coast', 'coast', 'coast', 'coast', 'coast', 'coast', 'coast', 'coast', 'coast', 'coast', 'coast', 'coast', 'coast', 'coast', 'coast', 'coast', 'coast', 'coast', 'coast', 'coast', 'coast', 'coast', 'coast', 'coast', 'coast', 'coast', 'coast', 'coast', 'coast', 'coast', 'coast', 'coast', 'coast', 'coast', 'coast', 'coast', 'coast', 'coast', 'coast', 'coast', 'coast', 'coast', 'coast', 'coast', 'coast', 'coast', 'coast', 'coast', 'coast', 'coast', 'coast', 'coast', 'coast', 'coast', 'coast', 'coast', 'coast', 'coast', 'coast', 'coast', 'coast', 'coast', 'coast', 'coast', 'coast', 'coast', 'coast', 'coast', 'coast', 'coast', 'coast', 'coast', 'coast', 'coast', 'coast', 'coast', 'coast', 'coast', 'coast', 'coast', 'coast', 'coast', 'coast', 'coast', 'coast', 'coast', 'coast', 'coast', 'coast', 'coast', 'coast', 'coast', 'coast', 'coast', 'coast', 'coast', 'coast', 'coast', 'coast', 'coast', 'coast', 'coast', 'coast', 'coast', 'coast', 'coast', 'coast', 'coast', 'coast', 'coast', 'coast', 'coast', 'coast', 'coast', 'coast', 'coast', 'coast', 'coast', 'coast', 'coast', 'coast', 'coast', 'coast', 'coast', 'coast', 'coast', 'coast', 'coast', 'coast', 'coast', 'coast', 'coast', 'coast', 'coast', 'coast', 'coast', 'coast', 'coast', 'coast', 'coast', 'coast', 'coast', 'coast', 'coast', 'coast', 'coast', 'coast', 'coast', 'coast', 'coast', 'coast', 'coast', 'coast', 'coast', 'coast', 'coast', 'coast', 'coast', 'coast', 'coast', 'coast', 'coast', 'coast', 'coast', 'coast', 'coast', 'coast', 'coast', 'coast', 'coast', 'coast', 'coast', 'coast', 'coast', 'coast', 'coast', 'coast', 'coast', 'coast', 'coast', 'coast', 'coast', 'coast', 'coast', 'coast', 'coast', 'coast', 'coast', 'coast', 'coast', 'coast', 'coast', 'coast', 'coast', 'coast', 'coast', 'coast', 'coast', 'coast', 'coast', 'coast', 'coast', 'coast', 'coast', 'coast', 'coast', 'coast', 'coast', 'coast', 'coast', 'coast', 'coast', 'coast', 'coast', 'coast', 'coast', 'coast', 'coast', 'coast', 'coast', 'coast', 'coast', 'coast', 'coast', 'coast', 'coast', 'coast', 'coast', 'coast', 'coast', 'coast', 'coast', 'coast', 'coast', 'coast', 'coast', 'coast', 'coast', 'coast', 'coast', 'coast', 'coast', 'coast', 'coast', 'coast', 'coast', 'coast', 'coast', 'coast', 'coast', 'coast', 'coast', 'coast', 'coast', 'coast', 'coast', 'coast', 'coast', 'coast', 'coast', 'coast', 'coast', 'coast', 'coast', 'coast', 'coast', 'coast', 'coast', 'coast', 'coast', 'coast', 'coast', 'coast', 'coast', 'coast', 'coast', 'coast', 'coast', 'coast', 'coast', 'coast', 'coast', 'coast', 'coast', 'coast', 'coast', 'coast', 'coast', 'coast', 'coast', 'coast', 'coast', 'coast', 'coast', 'coast', 'coast', 'coast', 'coast', 'coast', 'coast', 'coast', 'coast', 'coast', 'coast', 'coast', 'coast', 'coast', 'coast', 'coast', 'coast', 'coast', 'coast', 'coast', 'coast', 'coast', 'coast', 'coast', 'coast', 'coast', 'coast', 'coast', 'coast', 'coast', 'coast', 'coast', 'coast', 'coast', 'coast', 'coast', 'coast', 'coast', 'coast', 'coast', 'coast']\n"
          ],
          "name": "stdout"
        }
      ]
    },
    {
      "cell_type": "code",
      "metadata": {
        "id": "K-EC4BBaeR1r"
      },
      "source": [
        "# encode the labels, converting them from strings to integers\n",
        "lb = LabelBinarizer()\n",
        "labels = lb.fit_transform(labels)"
      ],
      "execution_count": 17,
      "outputs": []
    },
    {
      "cell_type": "code",
      "metadata": {
        "colab": {
          "base_uri": "https://localhost:8080/"
        },
        "id": "HOBDSQWzeXli",
        "outputId": "093c238e-1e9d-482f-c13f-2540222fc009"
      },
      "source": [
        "print(labels)"
      ],
      "execution_count": 18,
      "outputs": [
        {
          "output_type": "stream",
          "text": [
            "[[0 0 1]\n",
            " [0 0 1]\n",
            " [0 0 1]\n",
            " ...\n",
            " [1 0 0]\n",
            " [1 0 0]\n",
            " [1 0 0]]\n"
          ],
          "name": "stdout"
        }
      ]
    },
    {
      "cell_type": "code",
      "metadata": {
        "colab": {
          "base_uri": "https://localhost:8080/"
        },
        "id": "6tSUPHvFeaxh",
        "outputId": "3f0c4e8a-5dec-405e-8a68-7b2f49c1ee92"
      },
      "source": [
        "# perform a training and testing split, using 75% of the data for\n",
        "# training and 25% for evaluation\n",
        "(trainX, testX, trainY, testY) = train_test_split(np.array(data),\tnp.array(labels), test_size=0.25)\n",
        "print(trainX.shape)\n",
        "print(testX.shape)"
      ],
      "execution_count": 19,
      "outputs": [
        {
          "output_type": "stream",
          "text": [
            "(711, 32, 32, 3)\n",
            "(237, 32, 32, 3)\n"
          ],
          "name": "stdout"
        }
      ]
    },
    {
      "cell_type": "code",
      "metadata": {
        "id": "JU4An1I8ehnX"
      },
      "source": [
        "from keras.models import Sequential\n",
        "from keras.layers.core import Flatten\n",
        "from keras.layers.core import Dense\n",
        "\n",
        "model = Sequential(\n",
        "    [\n",
        "        Flatten(input_shape=(32*32*3,)),\n",
        "        Dense(60, activation=\"relu\", name=\"layer1\"),\n",
        "        Dense(65, activation=\"relu\", name=\"layer2\"),\n",
        "        Dense(60, activation=\"relu\", name=\"layer3\"),\n",
        "        Dense(65, activation=\"relu\", name=\"layer4\"),\n",
        "        Dense(60, activation=\"relu\", name=\"layer5\"),\n",
        "        Dense(65, activation=\"relu\", name=\"layer6\"),\n",
        "        Dense(3, activation = \"softmax\", name=\"layer7\"),\n",
        "    ]\n",
        ")"
      ],
      "execution_count": 21,
      "outputs": []
    },
    {
      "cell_type": "code",
      "metadata": {
        "colab": {
          "base_uri": "https://localhost:8080/"
        },
        "id": "_RuNoaPEeuP0",
        "outputId": "a9944606-b3a6-4a07-db11-df663bc71375"
      },
      "source": [
        "\n",
        "model.summary()"
      ],
      "execution_count": 22,
      "outputs": [
        {
          "output_type": "stream",
          "text": [
            "Model: \"sequential_1\"\n",
            "_________________________________________________________________\n",
            "Layer (type)                 Output Shape              Param #   \n",
            "=================================================================\n",
            "flatten_1 (Flatten)          (None, 3072)              0         \n",
            "_________________________________________________________________\n",
            "layer1 (Dense)               (None, 60)                184380    \n",
            "_________________________________________________________________\n",
            "layer2 (Dense)               (None, 65)                3965      \n",
            "_________________________________________________________________\n",
            "layer3 (Dense)               (None, 60)                3960      \n",
            "_________________________________________________________________\n",
            "layer4 (Dense)               (None, 65)                3965      \n",
            "_________________________________________________________________\n",
            "layer5 (Dense)               (None, 60)                3960      \n",
            "_________________________________________________________________\n",
            "layer6 (Dense)               (None, 65)                3965      \n",
            "_________________________________________________________________\n",
            "layer7 (Dense)               (None, 3)                 198       \n",
            "=================================================================\n",
            "Total params: 204,393\n",
            "Trainable params: 204,393\n",
            "Non-trainable params: 0\n",
            "_________________________________________________________________\n"
          ],
          "name": "stdout"
        }
      ]
    },
    {
      "cell_type": "code",
      "metadata": {
        "colab": {
          "base_uri": "https://localhost:8080/"
        },
        "id": "CeILHEbGe9YU",
        "outputId": "ea14a58d-7b7a-4ad4-aa9a-87f814ca38df"
      },
      "source": [
        "# train the model using the Adam optimizer\n",
        "print(\"[INFO] training network...\")\n",
        "opt = Adam(lr=1e-3, decay=1e-3 / 50)\n",
        "model.compile(loss=\"categorical_crossentropy\", optimizer=opt,\n",
        "\tmetrics=[\"accuracy\"])\n",
        "H = model.fit(trainX, trainY, validation_data=(testX, testY), epochs=35, batch_size=45,)"
      ],
      "execution_count": 23,
      "outputs": [
        {
          "output_type": "stream",
          "text": [
            "[INFO] training network...\n",
            "Epoch 1/35\n",
            "WARNING:tensorflow:Model was constructed with shape (None, 3072) for input Tensor(\"flatten_1_input:0\", shape=(None, 3072), dtype=float32), but it was called on an input with incompatible shape (None, 32, 32, 3).\n",
            "WARNING:tensorflow:Model was constructed with shape (None, 3072) for input Tensor(\"flatten_1_input:0\", shape=(None, 3072), dtype=float32), but it was called on an input with incompatible shape (None, 32, 32, 3).\n",
            "13/16 [=======================>......] - ETA: 0s - loss: 1.0812 - accuracy: 0.3897WARNING:tensorflow:Model was constructed with shape (None, 3072) for input Tensor(\"flatten_1_input:0\", shape=(None, 3072), dtype=float32), but it was called on an input with incompatible shape (None, 32, 32, 3).\n",
            "16/16 [==============================] - 0s 17ms/step - loss: 1.0795 - accuracy: 0.4121 - val_loss: 1.0459 - val_accuracy: 0.4262\n",
            "Epoch 2/35\n",
            "16/16 [==============================] - 0s 6ms/step - loss: 0.9692 - accuracy: 0.5345 - val_loss: 0.9036 - val_accuracy: 0.5696\n",
            "Epoch 3/35\n",
            "16/16 [==============================] - 0s 5ms/step - loss: 0.9109 - accuracy: 0.5232 - val_loss: 0.8355 - val_accuracy: 0.6118\n",
            "Epoch 4/35\n",
            "16/16 [==============================] - 0s 5ms/step - loss: 0.8288 - accuracy: 0.6048 - val_loss: 0.7762 - val_accuracy: 0.6582\n",
            "Epoch 5/35\n",
            "16/16 [==============================] - 0s 5ms/step - loss: 0.7397 - accuracy: 0.6695 - val_loss: 0.6796 - val_accuracy: 0.7342\n",
            "Epoch 6/35\n",
            "16/16 [==============================] - 0s 6ms/step - loss: 0.6695 - accuracy: 0.7159 - val_loss: 0.6541 - val_accuracy: 0.7637\n",
            "Epoch 7/35\n",
            "16/16 [==============================] - 0s 6ms/step - loss: 0.5886 - accuracy: 0.7496 - val_loss: 0.6103 - val_accuracy: 0.7679\n",
            "Epoch 8/35\n",
            "16/16 [==============================] - 0s 6ms/step - loss: 0.5450 - accuracy: 0.7750 - val_loss: 0.5802 - val_accuracy: 0.8059\n",
            "Epoch 9/35\n",
            "16/16 [==============================] - 0s 6ms/step - loss: 0.4604 - accuracy: 0.8340 - val_loss: 0.6403 - val_accuracy: 0.7426\n",
            "Epoch 10/35\n",
            "16/16 [==============================] - 0s 6ms/step - loss: 0.5655 - accuracy: 0.7764 - val_loss: 0.5523 - val_accuracy: 0.8143\n",
            "Epoch 11/35\n",
            "16/16 [==============================] - 0s 6ms/step - loss: 0.4677 - accuracy: 0.8453 - val_loss: 0.5991 - val_accuracy: 0.7511\n",
            "Epoch 12/35\n",
            "16/16 [==============================] - 0s 6ms/step - loss: 0.4509 - accuracy: 0.8214 - val_loss: 0.6117 - val_accuracy: 0.7764\n",
            "Epoch 13/35\n",
            "16/16 [==============================] - 0s 6ms/step - loss: 0.4608 - accuracy: 0.8214 - val_loss: 0.7196 - val_accuracy: 0.7173\n",
            "Epoch 14/35\n",
            "16/16 [==============================] - 0s 5ms/step - loss: 0.3950 - accuracy: 0.8481 - val_loss: 0.5732 - val_accuracy: 0.7932\n",
            "Epoch 15/35\n",
            "16/16 [==============================] - 0s 6ms/step - loss: 0.3729 - accuracy: 0.8650 - val_loss: 0.5452 - val_accuracy: 0.8101\n",
            "Epoch 16/35\n",
            "16/16 [==============================] - 0s 5ms/step - loss: 0.3881 - accuracy: 0.8608 - val_loss: 0.7495 - val_accuracy: 0.6709\n",
            "Epoch 17/35\n",
            "16/16 [==============================] - 0s 6ms/step - loss: 0.3893 - accuracy: 0.8425 - val_loss: 0.5974 - val_accuracy: 0.7848\n",
            "Epoch 18/35\n",
            "16/16 [==============================] - 0s 6ms/step - loss: 0.3245 - accuracy: 0.8833 - val_loss: 0.6994 - val_accuracy: 0.7679\n",
            "Epoch 19/35\n",
            "16/16 [==============================] - 0s 6ms/step - loss: 0.3019 - accuracy: 0.8903 - val_loss: 0.5549 - val_accuracy: 0.8186\n",
            "Epoch 20/35\n",
            "16/16 [==============================] - 0s 5ms/step - loss: 0.2916 - accuracy: 0.8959 - val_loss: 0.5471 - val_accuracy: 0.8143\n",
            "Epoch 21/35\n",
            "16/16 [==============================] - 0s 5ms/step - loss: 0.2633 - accuracy: 0.9086 - val_loss: 0.7372 - val_accuracy: 0.7384\n",
            "Epoch 22/35\n",
            "16/16 [==============================] - 0s 6ms/step - loss: 0.2993 - accuracy: 0.8917 - val_loss: 0.5970 - val_accuracy: 0.7975\n",
            "Epoch 23/35\n",
            "16/16 [==============================] - 0s 6ms/step - loss: 0.2694 - accuracy: 0.9072 - val_loss: 0.6069 - val_accuracy: 0.7975\n",
            "Epoch 24/35\n",
            "16/16 [==============================] - 0s 5ms/step - loss: 0.2592 - accuracy: 0.9100 - val_loss: 0.6627 - val_accuracy: 0.7679\n",
            "Epoch 25/35\n",
            "16/16 [==============================] - 0s 5ms/step - loss: 0.2923 - accuracy: 0.8847 - val_loss: 0.7200 - val_accuracy: 0.7848\n",
            "Epoch 26/35\n",
            "16/16 [==============================] - 0s 6ms/step - loss: 0.2661 - accuracy: 0.9142 - val_loss: 0.6400 - val_accuracy: 0.7975\n",
            "Epoch 27/35\n",
            "16/16 [==============================] - 0s 5ms/step - loss: 0.2859 - accuracy: 0.8833 - val_loss: 0.6959 - val_accuracy: 0.7764\n",
            "Epoch 28/35\n",
            "16/16 [==============================] - 0s 6ms/step - loss: 0.3299 - accuracy: 0.8636 - val_loss: 0.5793 - val_accuracy: 0.8143\n",
            "Epoch 29/35\n",
            "16/16 [==============================] - 0s 6ms/step - loss: 0.2350 - accuracy: 0.9311 - val_loss: 0.5663 - val_accuracy: 0.8017\n",
            "Epoch 30/35\n",
            "16/16 [==============================] - 0s 6ms/step - loss: 0.1940 - accuracy: 0.9339 - val_loss: 0.6436 - val_accuracy: 0.8143\n",
            "Epoch 31/35\n",
            "16/16 [==============================] - 0s 7ms/step - loss: 0.2725 - accuracy: 0.8931 - val_loss: 0.5769 - val_accuracy: 0.7806\n",
            "Epoch 32/35\n",
            "16/16 [==============================] - 0s 5ms/step - loss: 0.2506 - accuracy: 0.9058 - val_loss: 0.6507 - val_accuracy: 0.7975\n",
            "Epoch 33/35\n",
            "16/16 [==============================] - 0s 5ms/step - loss: 0.2471 - accuracy: 0.9241 - val_loss: 0.7196 - val_accuracy: 0.7637\n",
            "Epoch 34/35\n",
            "16/16 [==============================] - 0s 5ms/step - loss: 0.2205 - accuracy: 0.9311 - val_loss: 0.7763 - val_accuracy: 0.8186\n",
            "Epoch 35/35\n",
            "16/16 [==============================] - 0s 7ms/step - loss: 0.2994 - accuracy: 0.8847 - val_loss: 0.6597 - val_accuracy: 0.7764\n"
          ],
          "name": "stdout"
        }
      ]
    },
    {
      "cell_type": "code",
      "metadata": {
        "colab": {
          "base_uri": "https://localhost:8080/",
          "height": 591
        },
        "id": "T96e8LAnfDOy",
        "outputId": "4f940be0-ae13-47f6-eb0b-b23181f16efa"
      },
      "source": [
        "\n",
        "import matplotlib.pyplot as plt\n",
        "\n",
        "print(H.history.keys())\n",
        "# summarize history for accuracy\n",
        "plt.plot(H.history['accuracy'])\n",
        "plt.plot(H.history['val_accuracy'])\n",
        "plt.title('model accuracy')\n",
        "plt.ylabel('accuracy')\n",
        "plt.xlabel('epoch')\n",
        "plt.legend(['train', 'test'], loc='upper left')\n",
        "plt.show()\n",
        "# summarize history for loss\n",
        "plt.plot(H.history['loss'])\n",
        "plt.plot(H.history['val_loss'])\n",
        "plt.title('model loss')\n",
        "plt.ylabel('loss')\n",
        "plt.xlabel('epoch')\n",
        "plt.legend(['train', 'test'], loc='upper left')\n",
        "plt.show()"
      ],
      "execution_count": 24,
      "outputs": [
        {
          "output_type": "stream",
          "text": [
            "dict_keys(['loss', 'accuracy', 'val_loss', 'val_accuracy'])\n"
          ],
          "name": "stdout"
        },
        {
          "output_type": "display_data",
          "data": {
            "image/png": "[encoded data removed]",
            "text/plain": [
              "<Figure size 432x288 with 1 Axes>"
            ]
          },
          "metadata": {
            "tags": [],
            "needs_background": "light"
          }
        },
        {
          "output_type": "display_data",
          "data": {
            "image/png": "[encoded data removed]",
            "text/plain": [
              "<Figure size 432x288 with 1 Axes>"
            ]
          },
          "metadata": {
            "tags": [],
            "needs_background": "light"
          }
        }
      ]
    },
    {
      "cell_type": "code",
      "metadata": {
        "colab": {
          "base_uri": "https://localhost:8080/"
        },
        "id": "9RdQrhh0fLgr",
        "outputId": "8db77f9a-a657-4d99-ea0f-5b5361ed6380"
      },
      "source": [
        "\n",
        "# evaluate the network\n",
        "print(\"[INFO] evaluating network...\")\n",
        "predictions = model.predict(testX, batch_size=64)\n",
        "print(classification_report(testY.argmax(axis=1),\n",
        "\tpredictions.argmax(axis=1), target_names=lb.classes_))"
      ],
      "execution_count": 25,
      "outputs": [
        {
          "output_type": "stream",
          "text": [
            "[INFO] evaluating network...\n",
            "WARNING:tensorflow:Model was constructed with shape (None, 3072) for input Tensor(\"flatten_1_input:0\", shape=(None, 3072), dtype=float32), but it was called on an input with incompatible shape (None, 32, 32, 3).\n",
            "              precision    recall  f1-score   support\n",
            "\n",
            "       coast       0.68      0.86      0.76        80\n",
            "      forest       0.91      0.69      0.78        87\n",
            "     highway       0.79      0.79      0.79        70\n",
            "\n",
            "    accuracy                           0.78       237\n",
            "   macro avg       0.79      0.78      0.78       237\n",
            "weighted avg       0.80      0.78      0.78       237\n",
            "\n"
          ],
          "name": "stdout"
        }
      ]
    }
  ]
}